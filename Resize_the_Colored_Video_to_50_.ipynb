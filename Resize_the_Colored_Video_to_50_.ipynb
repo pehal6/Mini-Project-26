{
  "nbformat": 4,
  "nbformat_minor": 0,
  "metadata": {
    "colab": {
      "provenance": []
    },
    "kernelspec": {
      "name": "python3",
      "display_name": "Python 3"
    },
    "language_info": {
      "name": "python"
    }
  },
  "cells": [
    {
      "cell_type": "code",
      "source": [
        "import cv2\n",
        "\n",
        "cap = cv2.VideoCapture(\"video.mp4\")  # your input video\n",
        "fps = cap.get(cv2.CAP_PROP_FPS)\n",
        "w = int(cap.get(3) // 2)\n",
        "h = int(cap.get(4) // 2)\n",
        "\n",
        "out = cv2.VideoWriter(\"resized.mp4\", cv2.VideoWriter_fourcc(*'mp4v'), fps, (w, h))\n",
        "\n",
        "while True:\n",
        "    ret, frame = cap.read()\n",
        "    if not ret:\n",
        "        break\n",
        "    frame = cv2.resize(frame, (w, h))\n",
        "    out.write(frame)\n",
        "\n",
        "cap.release()\n",
        "out.release()\n",
        "print(\"✅ Saved as resized.mp4\")\n"
      ],
      "metadata": {
        "colab": {
          "base_uri": "https://localhost:8080/"
        },
        "id": "4eNxSoeirCzI",
        "outputId": "08cf21d3-562b-4826-e359-3fd6cce20619"
      },
      "execution_count": 4,
      "outputs": [
        {
          "output_type": "stream",
          "name": "stdout",
          "text": [
            "✅ Saved as resized.mp4\n"
          ]
        }
      ]
    }
  ]
}